{
 "cells": [
  {
   "cell_type": "markdown",
   "metadata": {},
   "source": [
    "Đọc số tự nhiên là một việc rất tốt để hiểu thêm về thế mạnh của máy tính. Lấy ví dụ sau: 123,123,123: một trăm hai mươi ba triệu một trăm hai mươi ba nghìn một trăm hai mươi ba. Chúng ta thấy rằng \n",
    "1. \"123\" lúc nào cũng được đọc là \"một trăm hai mươi ba\"\n",
    "2. Việc đọc số 123,123,123 có thể tách ra thành:\n",
    "* Đọc số hàng lớn nhất (triệu): 123,000,000: *một trăm hai mươi ba* triệu\n",
    "* Đọc số hàng tiếp theo (nghìn): 123,000: *một trăm hai mươi ba* nghìn\n",
    "* Đọc số hàng tiếp theo (đơn vị): 123: *một trăm hai mươi ba*\n",
    "* Nối các kết quả này lại với nhau\n",
    "Trong cả ba bước, việc đọc số có ba chữ số là giống nhau (123 lúc nào cũng được đọc là *một trăm hai mươi ba*). Vì lý do này mà ta có thể\n",
    "chia việc đọc số ra thành hai việc nhỏ hơn:\n",
    "1. `doc_hang_tram(n)`: đọc số  có ba chữ số (số hàng trăm)\n",
    "2. `doc_so(n)`: chia số cần đọc ra thành hàng đơn vị, hàng nghìn, hàng triệu, đọc các số này rồi ghép lại với nhau.\n",
    "Trong quá trình ghép số, có những trường hợp cần điều chỉnh cho chính xác (linh, không trăm v.v...), việc điều chỉnh này lại chiếm một phần lớn của đoạn chương trình.\n",
    "\n",
    "Hàm `doc_so` cũng cho phép in ra từng bước đọc (debug=True)\n",
    "\n"
   ]
  },
  {
   "cell_type": "code",
   "execution_count": 19,
   "metadata": {
    "colab": {
     "base_uri": "https://localhost:8080/"
    },
    "id": "9llSOdLlvXp2",
    "outputId": "4423e790-af67-45bb-86af-b5642f0a139d"
   },
   "outputs": [
    {
     "name": "stdout",
     "output_type": "stream",
     "text": [
      "0 : không\n",
      "1 : một\n",
      "10 : mười\n",
      "11 : mười một\n",
      "15 : mười lăm\n",
      "20 : hai mươi\n",
      "21 : hai mươi mốt\n",
      "99 : chín mươi chín\n",
      "101 : một trăm linh một\n",
      "123 : một trăm hai mươi ba\n",
      "234 : hai trăm ba mươi bốn\n",
      "506 : năm trăm linh sáu\n",
      "1000 : một nghìn\n",
      "1001 : một nghìn không trăm linh một\n",
      "123002123 : một trăm hai mươi ba triệu không trăm linh hai nghìn một trăm hai mươi ba\n"
     ]
    }
   ],
   "source": [
    "def doc_hang_tram(n):\n",
    "    \"\"\"Đọc số hàng trăm.\"\"\"\n",
    "    chu_so = [\"không\", \"một\", \"hai\", \"ba\", \"bốn\", \"năm\", \"sáu\", \"bảy\", \"tám\", \"chín\"]\n",
    "    tram, chuc, don_vi = n // 100, (n // 10) % 10, n % 10\n",
    "    ket_qua = \"\"\n",
    "\n",
    "    if tram > 0:\n",
    "        ket_qua += chu_so[tram] + \" trăm \"\n",
    "\n",
    "    if chuc > 1:\n",
    "        ket_qua += chu_so[chuc] + \" mươi \"\n",
    "    elif chuc == 1:\n",
    "        ket_qua += \"mười \"\n",
    "    elif tram > 0:\n",
    "        ket_qua += \"linh \"\n",
    "\n",
    "    if don_vi > 1:\n",
    "        if chuc > 0 and don_vi == 5:\n",
    "            ket_qua += \"lăm\"\n",
    "        else:\n",
    "            ket_qua += chu_so[don_vi]\n",
    "    elif don_vi == 1:\n",
    "        if chuc > 1:\n",
    "            ket_qua += \"mốt\"\n",
    "        else:\n",
    "            ket_qua += \"một\"\n",
    "\n",
    "    return ket_qua.strip()\n",
    "\n",
    "\n",
    "def doc_so(n, debug=False):\n",
    "    \"\"\"Chuyển số thành chữ với cách đọc chính xác hơn.\"\"\"\n",
    "    if n == 0:\n",
    "        return \"không\"\n",
    "\n",
    "    hang = [\"\", \"nghìn\", \"triệu\", \"tỷ\"]\n",
    "    phan = []\n",
    "    # chia số cần đọc ra thành hàng đơn vị, hàng nghìn, hàng triệu\n",
    "    while n > 0:\n",
    "        phan.append(n % 1000)\n",
    "        n //= 1000\n",
    "\n",
    "    ket_qua = []\n",
    "    for i in range(len(phan)):\n",
    "        # đọc các số này: đọc số hàng trăm ....\n",
    "        phan_doc = doc_hang_tram(phan[i])\n",
    "        # in ra từng bước để tiện theo dõi\n",
    "        if debug:\n",
    "            print(\n",
    "                \"hàng\",\n",
    "                \"đơn vị\" if i == 0 else hang[i],\n",
    "                \":\",\n",
    "                phan[i],\n",
    "                \", đọc là\",\n",
    "                phan_doc,\n",
    "                hang[i],\n",
    "            )\n",
    "\n",
    "        if i < len(phan) - 1 and phan[i] < 100 and phan[i] > 9:\n",
    "            phan_doc = \"không trăm \" + phan_doc\n",
    "        if i < len(phan) - 1 and phan[i] < 100 and phan[i] <= 9 and phan[i] > 0:\n",
    "            phan_doc = \"không trăm linh \" + phan_doc\n",
    "        # sau đó thêm vào hàng\n",
    "        if phan_doc or i == 0:  # Đọc cả khi số là 0 nếu nó là phần đầu tiên\n",
    "            ket_qua.append(phan_doc + \" \" + hang[i])\n",
    "\n",
    "    return \" \".join(reversed(ket_qua)).strip()\n",
    "\n",
    "\n",
    "# Sử dụng hàm doc_so_chinh_xac để đọc lại các số\n",
    "so_kiem_tra = [0, 1, 10, 11, 15, 20, 21, 99, 101, 123, 234, 506, 1000, 1001, 123002123]\n",
    "ket_qua_doc_so = [(so, doc_so(so)) for so in so_kiem_tra]\n",
    "# in ra kết quả đọc số\n",
    "for kq in ket_qua_doc_so:\n",
    "    print(kq[0], \":\", kq[1])"
   ]
  },
  {
   "cell_type": "code",
   "execution_count": 20,
   "metadata": {
    "colab": {
     "base_uri": "https://localhost:8080/",
     "height": 87
    },
    "id": "UDXaJczvztDI",
    "outputId": "36dcf168-9b24-469c-f699-3bde33430ee9"
   },
   "outputs": [
    {
     "name": "stdout",
     "output_type": "stream",
     "text": [
      "hàng đơn vị : 7 , đọc là bảy \n",
      "hàng nghìn : 234 , đọc là hai trăm ba mươi bốn nghìn\n",
      "hàng triệu : 1 , đọc là một triệu\n"
     ]
    },
    {
     "data": {
      "text/plain": [
       "'một triệu hai trăm ba mươi bốn nghìn không trăm linh bảy'"
      ]
     },
     "execution_count": 20,
     "metadata": {},
     "output_type": "execute_result"
    }
   ],
   "source": [
    "doc_so(1234007, debug=True)"
   ]
  },
  {
   "cell_type": "code",
   "execution_count": null,
   "metadata": {},
   "outputs": [],
   "source": []
  }
 ],
 "metadata": {
  "colab": {
   "provenance": []
  },
  "kernelspec": {
   "display_name": "Python 3 (ipykernel)",
   "language": "python",
   "name": "python3"
  },
  "language_info": {
   "codemirror_mode": {
    "name": "ipython",
    "version": 3
   },
   "file_extension": ".py",
   "mimetype": "text/x-python",
   "name": "python",
   "nbconvert_exporter": "python",
   "pygments_lexer": "ipython3",
   "version": "3.9.7"
  }
 },
 "nbformat": 4,
 "nbformat_minor": 4
}
