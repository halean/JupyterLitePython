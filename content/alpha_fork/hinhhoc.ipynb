{
 "cells": [
  {
   "cell_type": "code",
   "execution_count": null,
   "metadata": {},
   "outputs": [],
   "source": [
    "import micropip\n",
    "await micropip.install(\n",
    "    'https://files.pythonhosted.org/packages/a2/ad/e0d3c824784ff121c03cc031f944bc7e139a8f1870ffd2845cc2dd76f6c4/absl_py-2.1.0-py3-none-any.whl'\n",
    ")\n",
    "await micropip.install(\"numpy\")\n",
    "await micropip.install(\"scipy\")\n",
    "await micropip.install(\"matplotlib\")\n",
    "await micropip.install(\"/dist/alphageoddar-0.0.1-py3-none-any.whl\")"
   ]
  },
  {
   "cell_type": "code",
   "execution_count": null,
   "metadata": {},
   "outputs": [],
   "source": [
    "from alphageo_ddar import alphageometry\n",
    "from alphageo_ddar.alphageometry import run_ddar\n",
    "from alphageo_ddar import problem as pr\n",
    "from alphageo_ddar import graph as gh\n",
    "import logging\n",
    "\n",
    "alphageometry.DEFINITIONS = pr.Definition.from_txt_file(\"defs.txt\", to_dict=True)\n",
    "# load inference rules used in DD.\n",
    "alphageometry.RULES = pr.Theorem.from_txt_file(\"rules.txt\", to_dict=True)\n",
    "_PROBLEMS_FILE = \"examples.txt\"\n",
    "_PROBLEM_NAME = \"incenter_excenter\"\n",
    "# when using the language model,\n",
    "# point names will be renamed to alphabetical a, b, c, d, e, ...\n",
    "# instead of staying with their original names,\n",
    "# in order to match the synthetic training data generation.\n",
    "need_rename = False\n",
    "\n",
    "# load problems from the problems_file,\n",
    "problems = pr.Problem.from_txt_file(\n",
    "  _PROBLEMS_FILE, to_dict=True, translate=need_rename\n",
    ")\n",
    "\n",
    "if _PROBLEM_NAME not in problems:\n",
    "    raise ValueError(\n",
    "        f'Problem name `{_PROBLEM_NAME}` '\n",
    "        + f'not found in `{_PROBLEMS_FILE}`'\n",
    "    )\n",
    "\n",
    "this_problem = problems[_PROBLEM_NAME]\n",
    "_OUT_FILE = \"results.txt\"#\n",
    "import sys\n",
    "logging.basicConfig(stream=sys.stdout, level=logging.INFO)\n",
    "\n",
    "g, _ = gh.Graph.build_problem(this_problem, alphageometry.DEFINITIONS)\n",
    "run_ddar(g, this_problem, _OUT_FILE)"
   ]
  }
 ],
 "metadata": {
  "language_info": {
   "name": "python"
  }
 },
 "nbformat": 4,
 "nbformat_minor": 2
}
