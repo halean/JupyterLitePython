{
 "cells": [
  {
   "cell_type": "code",
   "execution_count": null,
   "metadata": {},
   "outputs": [],
   "source": [
    "# trong python, phép chia số tự nhiên được biểu diễn bằng toán tử // và %%\n",
    "# ví dụ 35 // 6 == 5, 35 %% 6 == 5 (35 chia 6 được 5, dư 5)\n",
    "# A chia hết cho B: A %% B == 0\n",
    "print(56 %% 7 == 0)\n",
    "print(18 %% 3 == 0)\n",
    "print(301 %% 2 == 0)\n"
   ]
  }
 ],
 "metadata": {
  "language_info": {
   "name": "python"
  }
 },
 "nbformat": 4,
 "nbformat_minor": 2
}
